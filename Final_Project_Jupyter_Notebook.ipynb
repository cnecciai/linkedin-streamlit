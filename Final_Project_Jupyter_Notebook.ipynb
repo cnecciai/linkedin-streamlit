{
 "cells": [
  {
   "cell_type": "markdown",
   "id": "77cce6ad",
   "metadata": {},
   "source": [
    "# Final Project\n",
    "## Clark P. Necciai Jr.\n",
    "### 11 December 2023"
   ]
  },
  {
   "cell_type": "markdown",
   "id": "33996cd5",
   "metadata": {},
   "source": [
    "---"
   ]
  },
  {
   "cell_type": "markdown",
   "id": "ecb39ac6",
   "metadata": {},
   "source": [
    "#### Q1  "
   ]
  },
  {
   "cell_type": "code",
   "execution_count": 1,
   "id": "f6a4e377",
   "metadata": {},
   "outputs": [
    {
     "name": "stdout",
     "output_type": "stream",
     "text": [
      "Number Rows: 1502\n",
      "Number Columns: 89\n"
     ]
    }
   ],
   "source": [
    "#Import Pandas\n",
    "import pandas as pd \n",
    "\n",
    "#Import and Examine structure of `social_media_usage.csv`\n",
    "s = pd.read_csv(\"social_media_usage.csv\")\n",
    "print(\"Number Rows: {}\".format(s.shape[0]))\n",
    "print(\"Number Columns: {}\".format(s.shape[1]))"
   ]
  },
  {
   "cell_type": "markdown",
   "id": "f040bfe8",
   "metadata": {},
   "source": [
    "---"
   ]
  },
  {
   "cell_type": "markdown",
   "id": "bd6c8975",
   "metadata": {},
   "source": [
    "#### Q2  "
   ]
  },
  {
   "cell_type": "code",
   "execution_count": 2,
   "id": "4a6a01b7",
   "metadata": {},
   "outputs": [
    {
     "name": "stdout",
     "output_type": "stream",
     "text": [
      "---\n",
      "Toy DataFrame\n",
      "---\n",
      "   var_1  var_2\n",
      "0      1  Hello\n",
      "1      3    1.0\n",
      "2      0    NaN\n",
      "---\n",
      "Testing clean_sm(x)\n",
      "---\n",
      "   var_1  var_2\n",
      "0      1      0\n",
      "1      0      1\n",
      "2      0      0\n"
     ]
    }
   ],
   "source": [
    "#Import Numpy\n",
    "import numpy as np\n",
    "\n",
    "#Function - clean_sm() - If x == 1, return 1 else 0\n",
    "def clean_sm(x):\n",
    "    x = np.where(x == 1, 1, 0)\n",
    "    return(x)\n",
    "\n",
    "#Create 3-row by 2-col Toy DataFrame \n",
    "#check multiple data types: floats, int, string, NA\n",
    "toy_df = pd.DataFrame(\n",
    "     {'var_1':[1,3,0],\n",
    "      'var_2':[\"Hello\", 1.0, np.NaN]}\n",
    " )\n",
    "\n",
    "print(\"---\\nToy DataFrame\\n---\")\n",
    "#Toy DataFrame\n",
    "print(toy_df)\n",
    "\n",
    "#Apply function to our variables\n",
    "toy_df['var_1'] = toy_df['var_1'].apply(clean_sm)\n",
    "toy_df['var_2'] = toy_df['var_2'].apply(clean_sm)\n",
    "print(\"---\\nTesting clean_sm(x)\\n---\")\n",
    "#Function example - Succesful\n",
    "print(toy_df)"
   ]
  },
  {
   "cell_type": "markdown",
   "id": "f4ed6f7f",
   "metadata": {},
   "source": [
    "---"
   ]
  },
  {
   "cell_type": "markdown",
   "id": "6d14a846",
   "metadata": {},
   "source": [
    "#### Q3  "
   ]
  },
  {
   "cell_type": "code",
   "execution_count": 3,
   "id": "b23dcdbb",
   "metadata": {},
   "outputs": [
    {
     "name": "stdout",
     "output_type": "stream",
     "text": [
      "sm_li          0\n",
      "income       229\n",
      "education     23\n",
      "parent         0\n",
      "married        0\n",
      "female         0\n",
      "age           54\n",
      "dtype: int64\n"
     ]
    },
    {
     "data": {
      "text/html": [
       "<div>\n",
       "<style scoped>\n",
       "    .dataframe tbody tr th:only-of-type {\n",
       "        vertical-align: middle;\n",
       "    }\n",
       "\n",
       "    .dataframe tbody tr th {\n",
       "        vertical-align: top;\n",
       "    }\n",
       "\n",
       "    .dataframe thead th {\n",
       "        text-align: right;\n",
       "    }\n",
       "</style>\n",
       "<table border=\"1\" class=\"dataframe\">\n",
       "  <thead>\n",
       "    <tr style=\"text-align: right;\">\n",
       "      <th></th>\n",
       "      <th>sm_li</th>\n",
       "      <th>income</th>\n",
       "      <th>education</th>\n",
       "      <th>parent</th>\n",
       "      <th>married</th>\n",
       "      <th>female</th>\n",
       "      <th>age</th>\n",
       "    </tr>\n",
       "  </thead>\n",
       "  <tbody>\n",
       "    <tr>\n",
       "      <th>0</th>\n",
       "      <td>0</td>\n",
       "      <td>6</td>\n",
       "      <td>4</td>\n",
       "      <td>0</td>\n",
       "      <td>0</td>\n",
       "      <td>1</td>\n",
       "      <td>77.0</td>\n",
       "    </tr>\n",
       "    <tr>\n",
       "      <th>1</th>\n",
       "      <td>0</td>\n",
       "      <td>5</td>\n",
       "      <td>3</td>\n",
       "      <td>0</td>\n",
       "      <td>0</td>\n",
       "      <td>0</td>\n",
       "      <td>59.0</td>\n",
       "    </tr>\n",
       "    <tr>\n",
       "      <th>2</th>\n",
       "      <td>0</td>\n",
       "      <td>8</td>\n",
       "      <td>4</td>\n",
       "      <td>0</td>\n",
       "      <td>1</td>\n",
       "      <td>1</td>\n",
       "      <td>60.0</td>\n",
       "    </tr>\n",
       "    <tr>\n",
       "      <th>3</th>\n",
       "      <td>0</td>\n",
       "      <td>8</td>\n",
       "      <td>8</td>\n",
       "      <td>0</td>\n",
       "      <td>0</td>\n",
       "      <td>0</td>\n",
       "      <td>73.0</td>\n",
       "    </tr>\n",
       "    <tr>\n",
       "      <th>4</th>\n",
       "      <td>1</td>\n",
       "      <td>7</td>\n",
       "      <td>8</td>\n",
       "      <td>0</td>\n",
       "      <td>1</td>\n",
       "      <td>1</td>\n",
       "      <td>65.0</td>\n",
       "    </tr>\n",
       "  </tbody>\n",
       "</table>\n",
       "</div>"
      ],
      "text/plain": [
       "  sm_li income education parent married female   age\n",
       "0     0      6         4      0       0      1  77.0\n",
       "1     0      5         3      0       0      0  59.0\n",
       "2     0      8         4      0       1      1  60.0\n",
       "3     0      8         8      0       0      0  73.0\n",
       "4     1      7         8      0       1      1  65.0"
      ]
     },
     "execution_count": 3,
     "metadata": {},
     "output_type": "execute_result"
    }
   ],
   "source": [
    "#Lambda func for correct check for female \n",
    "#(female == 2 in social_media_usage_README.txt)\n",
    "gender_female = lambda g: 1 if g == 2 else 0\n",
    "\n",
    "#Create `ss` DataFrame with Specified Variables\n",
    "ss = pd.DataFrame({\n",
    "    'sm_li': s['web1h'].apply(clean_sm),\n",
    "    'income':  np.where(s['income'] > 9, np.nan, s['income']),\n",
    "    'education': np.where(s['educ2'] > 8, np.nan, s['educ2']),\n",
    "    'parent': s['par'].apply(clean_sm), # No missing\n",
    "    'married': s['marital'].apply(clean_sm), #No missing\n",
    "    'female': s['gender'].apply(gender_female), #No missing\n",
    "    'age': np.where(s['age'] > 98, np.nan, s['age']),\n",
    "})\n",
    "\n",
    "#Data Type Conversion to Categorical\n",
    "#Code below removes decimal with Int64 then converts to Categorical\n",
    "ss['sm_li'] = ss['sm_li'].astype('str')\n",
    "ss['income'] = pd.to_numeric(ss['income'], errors='coerce').astype('Int64').astype('category')\n",
    "ss['education'] = pd.to_numeric(ss['education'], errors='coerce').astype('Int64').astype('category')\n",
    "ss['parent'] = ss['parent'].astype('category')\n",
    "ss['married'] = ss['married'].astype('category')\n",
    "ss['female'] = ss['female'].astype('category')\n",
    "\n",
    "#Inspect for NA values\n",
    "print(ss.isna().sum())\n",
    "\n",
    "#Drop missing Values\n",
    "ss.dropna(inplace=True)\n",
    "ss.head()"
   ]
  },
  {
   "cell_type": "markdown",
   "id": "134994d6",
   "metadata": {},
   "source": [
    "#### Exploratory Data Analysis"
   ]
  },
  {
   "cell_type": "code",
   "execution_count": 4,
   "id": "b4ce7d8a",
   "metadata": {},
   "outputs": [
    {
     "name": "stdout",
     "output_type": "stream",
     "text": [
      "Data types :\n",
      "---\n",
      " sm_li          object\n",
      "income       category\n",
      "education    category\n",
      "parent       category\n",
      "married      category\n",
      "female       category\n",
      "age           float64\n",
      "dtype: object\n",
      "\n",
      "Missing/NA Values:\n",
      "---\n",
      " sm_li        0\n",
      "income       0\n",
      "education    0\n",
      "parent       0\n",
      "married      0\n",
      "female       0\n",
      "age          0\n",
      "dtype: int64\n"
     ]
    }
   ],
   "source": [
    "import seaborn as sns\n",
    "import matplotlib.pyplot as plt\n",
    "import warnings\n",
    "warnings.filterwarnings(\"ignore\")\n",
    "#Examine Data Types\n",
    "print(\"Data types :\\n---\\n\", ss.dtypes)\n",
    "\n",
    "#Confirm no missing values\n",
    "print(\"\\nMissing/NA Values:\\n---\\n\",ss.isnull().sum())"
   ]
  },
  {
   "cell_type": "code",
   "execution_count": 5,
   "id": "7d8fcc46",
   "metadata": {},
   "outputs": [
    {
     "data": {
      "text/html": [
       "<div>\n",
       "<style scoped>\n",
       "    .dataframe tbody tr th:only-of-type {\n",
       "        vertical-align: middle;\n",
       "    }\n",
       "\n",
       "    .dataframe tbody tr th {\n",
       "        vertical-align: top;\n",
       "    }\n",
       "\n",
       "    .dataframe thead tr th {\n",
       "        text-align: left;\n",
       "    }\n",
       "\n",
       "    .dataframe thead tr:last-of-type th {\n",
       "        text-align: right;\n",
       "    }\n",
       "</style>\n",
       "<table border=\"1\" class=\"dataframe\">\n",
       "  <thead>\n",
       "    <tr>\n",
       "      <th></th>\n",
       "      <th colspan=\"4\" halign=\"left\">income</th>\n",
       "      <th colspan=\"4\" halign=\"left\">education</th>\n",
       "      <th colspan=\"4\" halign=\"left\">parent</th>\n",
       "      <th colspan=\"4\" halign=\"left\">married</th>\n",
       "      <th colspan=\"4\" halign=\"left\">female</th>\n",
       "    </tr>\n",
       "    <tr>\n",
       "      <th></th>\n",
       "      <th>count</th>\n",
       "      <th>unique</th>\n",
       "      <th>top</th>\n",
       "      <th>freq</th>\n",
       "      <th>count</th>\n",
       "      <th>unique</th>\n",
       "      <th>top</th>\n",
       "      <th>freq</th>\n",
       "      <th>count</th>\n",
       "      <th>unique</th>\n",
       "      <th>top</th>\n",
       "      <th>freq</th>\n",
       "      <th>count</th>\n",
       "      <th>unique</th>\n",
       "      <th>top</th>\n",
       "      <th>freq</th>\n",
       "      <th>count</th>\n",
       "      <th>unique</th>\n",
       "      <th>top</th>\n",
       "      <th>freq</th>\n",
       "    </tr>\n",
       "    <tr>\n",
       "      <th>sm_li</th>\n",
       "      <th></th>\n",
       "      <th></th>\n",
       "      <th></th>\n",
       "      <th></th>\n",
       "      <th></th>\n",
       "      <th></th>\n",
       "      <th></th>\n",
       "      <th></th>\n",
       "      <th></th>\n",
       "      <th></th>\n",
       "      <th></th>\n",
       "      <th></th>\n",
       "      <th></th>\n",
       "      <th></th>\n",
       "      <th></th>\n",
       "      <th></th>\n",
       "      <th></th>\n",
       "      <th></th>\n",
       "      <th></th>\n",
       "      <th></th>\n",
       "    </tr>\n",
       "  </thead>\n",
       "  <tbody>\n",
       "    <tr>\n",
       "      <th>0</th>\n",
       "      <td>840</td>\n",
       "      <td>9</td>\n",
       "      <td>6</td>\n",
       "      <td>145</td>\n",
       "      <td>840</td>\n",
       "      <td>8</td>\n",
       "      <td>3</td>\n",
       "      <td>221</td>\n",
       "      <td>840</td>\n",
       "      <td>2</td>\n",
       "      <td>0</td>\n",
       "      <td>657</td>\n",
       "      <td>840</td>\n",
       "      <td>2</td>\n",
       "      <td>0</td>\n",
       "      <td>459</td>\n",
       "      <td>840</td>\n",
       "      <td>2</td>\n",
       "      <td>0</td>\n",
       "      <td>465</td>\n",
       "    </tr>\n",
       "    <tr>\n",
       "      <th>1</th>\n",
       "      <td>420</td>\n",
       "      <td>9</td>\n",
       "      <td>9</td>\n",
       "      <td>124</td>\n",
       "      <td>420</td>\n",
       "      <td>7</td>\n",
       "      <td>6</td>\n",
       "      <td>157</td>\n",
       "      <td>420</td>\n",
       "      <td>2</td>\n",
       "      <td>0</td>\n",
       "      <td>289</td>\n",
       "      <td>420</td>\n",
       "      <td>2</td>\n",
       "      <td>1</td>\n",
       "      <td>228</td>\n",
       "      <td>420</td>\n",
       "      <td>2</td>\n",
       "      <td>0</td>\n",
       "      <td>266</td>\n",
       "    </tr>\n",
       "  </tbody>\n",
       "</table>\n",
       "</div>"
      ],
      "text/plain": [
       "      income                 education                 parent                  \\\n",
       "       count unique top freq     count unique top freq  count unique top freq   \n",
       "sm_li                                                                           \n",
       "0        840      9   6  145       840      8   3  221    840      2   0  657   \n",
       "1        420      9   9  124       420      7   6  157    420      2   0  289   \n",
       "\n",
       "      married                 female                  \n",
       "        count unique top freq  count unique top freq  \n",
       "sm_li                                                 \n",
       "0         840      2   0  459    840      2   0  465  \n",
       "1         420      2   1  228    420      2   0  266  "
      ]
     },
     "execution_count": 5,
     "metadata": {},
     "output_type": "execute_result"
    }
   ],
   "source": [
    "#Summary Statistics of Categorical Variables By LinkedIn Usage\n",
    "ss.groupby('sm_li').describe(include=['category', 'object'], exclude='float64')"
   ]
  },
  {
   "cell_type": "code",
   "execution_count": 6,
   "id": "3e25e2f9",
   "metadata": {},
   "outputs": [
    {
     "data": {
      "image/png": "[encoded data removed]",
      "text/plain": [
       "<Figure size 1000x1000 with 6 Axes>"
      ]
     },
     "metadata": {},
     "output_type": "display_data"
    }
   ],
   "source": [
    "#Plot Preprocessing\n",
    "custom_palette = \"vlag\"\n",
    "fig, axes = plt.subplots(nrows=3, ncols=2, figsize=(10,10))\n",
    "\n",
    "#Attrition Distribution\n",
    "att_plot = sns.countplot(ss, x = 'sm_li', palette=custom_palette, ax = axes[0, 0])\n",
    "axes[0, 0].set_title('Distribution of LinkedIn User')\n",
    "axes[0, 0].set_xlabel(\"LinkedIn User\")\n",
    "att_plot.bar_label(att_plot.containers[0])\n",
    "\n",
    "#Attrition by Income\n",
    "inc_plot = sns.countplot(ss, x = 'income', hue = 'sm_li', palette=custom_palette, ax = axes[0, 1])\n",
    "inc_plot.legend().set_title(\"LinkedIn User\")\n",
    "axes[0, 1].set_title('LinkedIn User by Income')\n",
    "inc_plot.bar_label(inc_plot.containers[0])\n",
    "inc_plot.bar_label(inc_plot.containers[1])\n",
    "\n",
    "#LinkedIn User by Education\n",
    "edu_plot = sns.countplot(ss, x = 'education', hue = 'sm_li', palette=custom_palette, ax = axes[1, 0])\n",
    "edu_plot.legend().set_title(\"LinkedIn User\")\n",
    "axes[1, 0].set_title('LinkedIn User by Education')\n",
    "edu_plot.bar_label(edu_plot.containers[0])\n",
    "edu_plot.bar_label(edu_plot.containers[1])\n",
    "\n",
    "#LinkedIn User by Parent\n",
    "par_plot = sns.countplot(ss, x = 'parent', hue = 'sm_li', palette=custom_palette, ax = axes[1, 1]) \n",
    "par_plot.legend().set_title(\"LinkedIn User\")\n",
    "axes[1, 1].set_title('LinkedIn User by Parent')\n",
    "par_plot.bar_label(par_plot.containers[0])\n",
    "par_plot.bar_label(par_plot.containers[1])\n",
    "\n",
    "#LinkedIn User by Married\n",
    "mar_plot = sns.countplot(ss, x = 'married', hue = 'sm_li', palette=custom_palette, ax = axes[2, 0]) \n",
    "mar_plot.legend().set_title(\"LinkedIn User\")\n",
    "axes[2, 0].set_title('LinkedIn User by Married')\n",
    "mar_plot.bar_label(mar_plot.containers[0])\n",
    "mar_plot.bar_label(mar_plot.containers[1])\n",
    "\n",
    "#LinkedIn User by Female\n",
    "fem_plot = sns.countplot(ss, x = 'female', hue = 'sm_li', palette=custom_palette, ax = axes[2, 1])\n",
    "fem_plot.legend().set_title(\"LinkedIn User\")\n",
    "axes[2, 1].set_title('LinkedIn User by Female')\n",
    "fem_plot.bar_label(fem_plot.containers[0])\n",
    "fem_plot.bar_label(fem_plot.containers[1])\n",
    "\n",
    "plt.tight_layout()"
   ]
  },
  {
   "cell_type": "code",
   "execution_count": 7,
   "id": "944c4338",
   "metadata": {},
   "outputs": [
    {
     "data": {
      "text/plain": [
       "<Axes: title={'center': 'Distribution of LinkedIn User by Age'}, xlabel='Age', ylabel='LinkedIn User'>"
      ]
     },
     "execution_count": 7,
     "metadata": {},
     "output_type": "execute_result"
    },
    {
     "data": {
      "image/png": "[encoded data removed]",
      "text/plain": [
       "<Figure size 640x480 with 1 Axes>"
      ]
     },
     "metadata": {},
     "output_type": "display_data"
    }
   ],
   "source": [
    "#Boxplot Attrition by Age\n",
    "age_box = sns.boxplot(\n",
    "    ss, x = \"age\", y = \"sm_li\", palette=custom_palette,\n",
    "    width = .5\n",
    ")\n",
    "\n",
    "#Assign labels/title\n",
    "age_box.set(xlabel=\"Age\", ylabel=\"LinkedIn User\", title = \"Distribution of LinkedIn User by Age\")\n",
    "\n",
    "# Add Points\n",
    "sns.stripplot(ss, x=\"age\", y=\"sm_li\", size=4, alpha = 0.5, color=\".3\")"
   ]
  },
  {
   "cell_type": "code",
   "execution_count": 8,
   "id": "a047dea4",
   "metadata": {},
   "outputs": [
    {
     "data": {
      "text/html": [
       "<div>\n",
       "<style scoped>\n",
       "    .dataframe tbody tr th:only-of-type {\n",
       "        vertical-align: middle;\n",
       "    }\n",
       "\n",
       "    .dataframe tbody tr th {\n",
       "        vertical-align: top;\n",
       "    }\n",
       "\n",
       "    .dataframe thead tr th {\n",
       "        text-align: left;\n",
       "    }\n",
       "\n",
       "    .dataframe thead tr:last-of-type th {\n",
       "        text-align: right;\n",
       "    }\n",
       "</style>\n",
       "<table border=\"1\" class=\"dataframe\">\n",
       "  <thead>\n",
       "    <tr>\n",
       "      <th></th>\n",
       "      <th colspan=\"8\" halign=\"left\">age</th>\n",
       "    </tr>\n",
       "    <tr>\n",
       "      <th></th>\n",
       "      <th>count</th>\n",
       "      <th>mean</th>\n",
       "      <th>std</th>\n",
       "      <th>min</th>\n",
       "      <th>25%</th>\n",
       "      <th>50%</th>\n",
       "      <th>75%</th>\n",
       "      <th>max</th>\n",
       "    </tr>\n",
       "    <tr>\n",
       "      <th>sm_li</th>\n",
       "      <th></th>\n",
       "      <th></th>\n",
       "      <th></th>\n",
       "      <th></th>\n",
       "      <th></th>\n",
       "      <th></th>\n",
       "      <th></th>\n",
       "      <th></th>\n",
       "    </tr>\n",
       "  </thead>\n",
       "  <tbody>\n",
       "    <tr>\n",
       "      <th>0</th>\n",
       "      <td>840.0</td>\n",
       "      <td>53.325000</td>\n",
       "      <td>19.248958</td>\n",
       "      <td>18.0</td>\n",
       "      <td>37.0</td>\n",
       "      <td>56.0</td>\n",
       "      <td>69.0</td>\n",
       "      <td>97.0</td>\n",
       "    </tr>\n",
       "    <tr>\n",
       "      <th>1</th>\n",
       "      <td>420.0</td>\n",
       "      <td>47.111905</td>\n",
       "      <td>15.810765</td>\n",
       "      <td>18.0</td>\n",
       "      <td>34.0</td>\n",
       "      <td>47.0</td>\n",
       "      <td>60.0</td>\n",
       "      <td>83.0</td>\n",
       "    </tr>\n",
       "  </tbody>\n",
       "</table>\n",
       "</div>"
      ],
      "text/plain": [
       "         age                                                    \n",
       "       count       mean        std   min   25%   50%   75%   max\n",
       "sm_li                                                           \n",
       "0      840.0  53.325000  19.248958  18.0  37.0  56.0  69.0  97.0\n",
       "1      420.0  47.111905  15.810765  18.0  34.0  47.0  60.0  83.0"
      ]
     },
     "execution_count": 8,
     "metadata": {},
     "output_type": "execute_result"
    }
   ],
   "source": [
    "#Summary Statistics of Continuous Variables(`age`) By LinkedIn Usage\n",
    "ss.groupby(\"sm_li\").describe()"
   ]
  },
  {
   "cell_type": "code",
   "execution_count": 9,
   "id": "9d228c63",
   "metadata": {},
   "outputs": [
    {
     "data": {
      "text/html": [
       "<style type=\"text/css\">\n",
       "#T_9dbcf_row0_col0, #T_9dbcf_row1_col1, #T_9dbcf_row2_col2, #T_9dbcf_row3_col3, #T_9dbcf_row4_col4, #T_9dbcf_row5_col5, #T_9dbcf_row6_col6 {\n",
       "  background-color: #a9373b;\n",
       "  color: #f1f1f1;\n",
       "}\n",
       "#T_9dbcf_row0_col1 {\n",
       "  background-color: #d4d8e2;\n",
       "  color: #000000;\n",
       "}\n",
       "#T_9dbcf_row0_col2, #T_9dbcf_row1_col3, #T_9dbcf_row3_col4, #T_9dbcf_row5_col6 {\n",
       "  background-color: #a8b7cf;\n",
       "  color: #000000;\n",
       "}\n",
       "#T_9dbcf_row0_col3 {\n",
       "  background-color: #abb9d0;\n",
       "  color: #000000;\n",
       "}\n",
       "#T_9dbcf_row0_col4 {\n",
       "  background-color: #678bbe;\n",
       "  color: #f1f1f1;\n",
       "}\n",
       "#T_9dbcf_row0_col5 {\n",
       "  background-color: #316fbc;\n",
       "  color: #f1f1f1;\n",
       "}\n",
       "#T_9dbcf_row0_col6 {\n",
       "  background-color: #5380bc;\n",
       "  color: #f1f1f1;\n",
       "}\n",
       "#T_9dbcf_row1_col0 {\n",
       "  background-color: #e1e2e9;\n",
       "  color: #000000;\n",
       "}\n",
       "#T_9dbcf_row1_col2 {\n",
       "  background-color: #dfe1e8;\n",
       "  color: #000000;\n",
       "}\n",
       "#T_9dbcf_row1_col4 {\n",
       "  background-color: #e6e6ec;\n",
       "  color: #000000;\n",
       "}\n",
       "#T_9dbcf_row1_col5, #T_9dbcf_row3_col2, #T_9dbcf_row3_col6, #T_9dbcf_row5_col1, #T_9dbcf_row5_col4, #T_9dbcf_row6_col0, #T_9dbcf_row6_col3 {\n",
       "  background-color: #2369bd;\n",
       "  color: #f1f1f1;\n",
       "}\n",
       "#T_9dbcf_row1_col6, #T_9dbcf_row3_col0 {\n",
       "  background-color: #90a6c7;\n",
       "  color: #f1f1f1;\n",
       "}\n",
       "#T_9dbcf_row2_col0, #T_9dbcf_row4_col3 {\n",
       "  background-color: #dadde5;\n",
       "  color: #000000;\n",
       "}\n",
       "#T_9dbcf_row2_col1 {\n",
       "  background-color: #f9f5f5;\n",
       "  color: #000000;\n",
       "}\n",
       "#T_9dbcf_row2_col3, #T_9dbcf_row5_col3 {\n",
       "  background-color: #95a9c8;\n",
       "  color: #f1f1f1;\n",
       "}\n",
       "#T_9dbcf_row2_col4 {\n",
       "  background-color: #98acc9;\n",
       "  color: #f1f1f1;\n",
       "}\n",
       "#T_9dbcf_row2_col5 {\n",
       "  background-color: #6c8ebf;\n",
       "  color: #f1f1f1;\n",
       "}\n",
       "#T_9dbcf_row2_col6 {\n",
       "  background-color: #adbbd1;\n",
       "  color: #000000;\n",
       "}\n",
       "#T_9dbcf_row3_col1 {\n",
       "  background-color: #7b98c2;\n",
       "  color: #f1f1f1;\n",
       "}\n",
       "#T_9dbcf_row3_col5 {\n",
       "  background-color: #6489be;\n",
       "  color: #f1f1f1;\n",
       "}\n",
       "#T_9dbcf_row4_col0 {\n",
       "  background-color: #8aa2c5;\n",
       "  color: #f1f1f1;\n",
       "}\n",
       "#T_9dbcf_row4_col1 {\n",
       "  background-color: #efeef1;\n",
       "  color: #000000;\n",
       "}\n",
       "#T_9dbcf_row4_col2, #T_9dbcf_row6_col5 {\n",
       "  background-color: #7d99c2;\n",
       "  color: #f1f1f1;\n",
       "}\n",
       "#T_9dbcf_row4_col5 {\n",
       "  background-color: #3f75bc;\n",
       "  color: #f1f1f1;\n",
       "}\n",
       "#T_9dbcf_row4_col6 {\n",
       "  background-color: #c2cada;\n",
       "  color: #000000;\n",
       "}\n",
       "#T_9dbcf_row5_col0 {\n",
       "  background-color: #4e7dbc;\n",
       "  color: #f1f1f1;\n",
       "}\n",
       "#T_9dbcf_row5_col2 {\n",
       "  background-color: #2f6ebc;\n",
       "  color: #f1f1f1;\n",
       "}\n",
       "#T_9dbcf_row6_col1 {\n",
       "  background-color: #6087bd;\n",
       "  color: #f1f1f1;\n",
       "}\n",
       "#T_9dbcf_row6_col2 {\n",
       "  background-color: #507ebc;\n",
       "  color: #f1f1f1;\n",
       "}\n",
       "#T_9dbcf_row6_col4 {\n",
       "  background-color: #8ba3c6;\n",
       "  color: #f1f1f1;\n",
       "}\n",
       "</style>\n",
       "<table id=\"T_9dbcf\">\n",
       "  <thead>\n",
       "    <tr>\n",
       "      <th class=\"blank level0\" >&nbsp;</th>\n",
       "      <th id=\"T_9dbcf_level0_col0\" class=\"col_heading level0 col0\" >sm_li</th>\n",
       "      <th id=\"T_9dbcf_level0_col1\" class=\"col_heading level0 col1\" >income</th>\n",
       "      <th id=\"T_9dbcf_level0_col2\" class=\"col_heading level0 col2\" >education</th>\n",
       "      <th id=\"T_9dbcf_level0_col3\" class=\"col_heading level0 col3\" >parent</th>\n",
       "      <th id=\"T_9dbcf_level0_col4\" class=\"col_heading level0 col4\" >married</th>\n",
       "      <th id=\"T_9dbcf_level0_col5\" class=\"col_heading level0 col5\" >female</th>\n",
       "      <th id=\"T_9dbcf_level0_col6\" class=\"col_heading level0 col6\" >age</th>\n",
       "    </tr>\n",
       "  </thead>\n",
       "  <tbody>\n",
       "    <tr>\n",
       "      <th id=\"T_9dbcf_level0_row0\" class=\"row_heading level0 row0\" >sm_li</th>\n",
       "      <td id=\"T_9dbcf_row0_col0\" class=\"data row0 col0\" >1.000000</td>\n",
       "      <td id=\"T_9dbcf_row0_col1\" class=\"data row0 col1\" >0.329674</td>\n",
       "      <td id=\"T_9dbcf_row0_col2\" class=\"data row0 col2\" >0.310088</td>\n",
       "      <td id=\"T_9dbcf_row0_col3\" class=\"data row0 col3\" >0.102495</td>\n",
       "      <td id=\"T_9dbcf_row0_col4\" class=\"data row0 col4\" >0.084226</td>\n",
       "      <td id=\"T_9dbcf_row0_col5\" class=\"data row0 col5\" >-0.076186</td>\n",
       "      <td id=\"T_9dbcf_row0_col6\" class=\"data row0 col6\" >-0.159209</td>\n",
       "    </tr>\n",
       "    <tr>\n",
       "      <th id=\"T_9dbcf_level0_row1\" class=\"row_heading level0 row1\" >income</th>\n",
       "      <td id=\"T_9dbcf_row1_col0\" class=\"data row1 col0\" >0.329674</td>\n",
       "      <td id=\"T_9dbcf_row1_col1\" class=\"data row1 col1\" >1.000000</td>\n",
       "      <td id=\"T_9dbcf_row1_col2\" class=\"data row1 col2\" >0.438773</td>\n",
       "      <td id=\"T_9dbcf_row1_col3\" class=\"data row1 col3\" >0.093554</td>\n",
       "      <td id=\"T_9dbcf_row1_col4\" class=\"data row1 col4\" >0.402396</td>\n",
       "      <td id=\"T_9dbcf_row1_col5\" class=\"data row1 col5\" >-0.098204</td>\n",
       "      <td id=\"T_9dbcf_row1_col6\" class=\"data row1 col6\" >0.022394</td>\n",
       "    </tr>\n",
       "    <tr>\n",
       "      <th id=\"T_9dbcf_level0_row2\" class=\"row_heading level0 row2\" >education</th>\n",
       "      <td id=\"T_9dbcf_row2_col0\" class=\"data row2 col0\" >0.310088</td>\n",
       "      <td id=\"T_9dbcf_row2_col1\" class=\"data row2 col1\" >0.438773</td>\n",
       "      <td id=\"T_9dbcf_row2_col2\" class=\"data row2 col2\" >1.000000</td>\n",
       "      <td id=\"T_9dbcf_row2_col3\" class=\"data row2 col3\" >0.037349</td>\n",
       "      <td id=\"T_9dbcf_row2_col4\" class=\"data row2 col4\" >0.206708</td>\n",
       "      <td id=\"T_9dbcf_row2_col5\" class=\"data row2 col5\" >0.052714</td>\n",
       "      <td id=\"T_9dbcf_row2_col6\" class=\"data row2 col6\" >0.111718</td>\n",
       "    </tr>\n",
       "    <tr>\n",
       "      <th id=\"T_9dbcf_level0_row3\" class=\"row_heading level0 row3\" >parent</th>\n",
       "      <td id=\"T_9dbcf_row3_col0\" class=\"data row3 col0\" >0.102495</td>\n",
       "      <td id=\"T_9dbcf_row3_col1\" class=\"data row3 col1\" >0.093554</td>\n",
       "      <td id=\"T_9dbcf_row3_col2\" class=\"data row3 col2\" >0.037349</td>\n",
       "      <td id=\"T_9dbcf_row3_col3\" class=\"data row3 col3\" >1.000000</td>\n",
       "      <td id=\"T_9dbcf_row3_col4\" class=\"data row3 col4\" >0.246857</td>\n",
       "      <td id=\"T_9dbcf_row3_col5\" class=\"data row3 col5\" >0.034091</td>\n",
       "      <td id=\"T_9dbcf_row3_col6\" class=\"data row3 col6\" >-0.263081</td>\n",
       "    </tr>\n",
       "    <tr>\n",
       "      <th id=\"T_9dbcf_level0_row4\" class=\"row_heading level0 row4\" >married</th>\n",
       "      <td id=\"T_9dbcf_row4_col0\" class=\"data row4 col0\" >0.084226</td>\n",
       "      <td id=\"T_9dbcf_row4_col1\" class=\"data row4 col1\" >0.402396</td>\n",
       "      <td id=\"T_9dbcf_row4_col2\" class=\"data row4 col2\" >0.206708</td>\n",
       "      <td id=\"T_9dbcf_row4_col3\" class=\"data row4 col3\" >0.246857</td>\n",
       "      <td id=\"T_9dbcf_row4_col4\" class=\"data row4 col4\" >1.000000</td>\n",
       "      <td id=\"T_9dbcf_row4_col5\" class=\"data row4 col5\" >-0.050469</td>\n",
       "      <td id=\"T_9dbcf_row4_col6\" class=\"data row4 col6\" >0.172778</td>\n",
       "    </tr>\n",
       "    <tr>\n",
       "      <th id=\"T_9dbcf_level0_row5\" class=\"row_heading level0 row5\" >female</th>\n",
       "      <td id=\"T_9dbcf_row5_col0\" class=\"data row5 col0\" >-0.076186</td>\n",
       "      <td id=\"T_9dbcf_row5_col1\" class=\"data row5 col1\" >-0.098204</td>\n",
       "      <td id=\"T_9dbcf_row5_col2\" class=\"data row5 col2\" >0.052714</td>\n",
       "      <td id=\"T_9dbcf_row5_col3\" class=\"data row5 col3\" >0.034091</td>\n",
       "      <td id=\"T_9dbcf_row5_col4\" class=\"data row5 col4\" >-0.050469</td>\n",
       "      <td id=\"T_9dbcf_row5_col5\" class=\"data row5 col5\" >1.000000</td>\n",
       "      <td id=\"T_9dbcf_row5_col6\" class=\"data row5 col6\" >0.096999</td>\n",
       "    </tr>\n",
       "    <tr>\n",
       "      <th id=\"T_9dbcf_level0_row6\" class=\"row_heading level0 row6\" >age</th>\n",
       "      <td id=\"T_9dbcf_row6_col0\" class=\"data row6 col0\" >-0.159209</td>\n",
       "      <td id=\"T_9dbcf_row6_col1\" class=\"data row6 col1\" >0.022394</td>\n",
       "      <td id=\"T_9dbcf_row6_col2\" class=\"data row6 col2\" >0.111718</td>\n",
       "      <td id=\"T_9dbcf_row6_col3\" class=\"data row6 col3\" >-0.263081</td>\n",
       "      <td id=\"T_9dbcf_row6_col4\" class=\"data row6 col4\" >0.172778</td>\n",
       "      <td id=\"T_9dbcf_row6_col5\" class=\"data row6 col5\" >0.096999</td>\n",
       "      <td id=\"T_9dbcf_row6_col6\" class=\"data row6 col6\" >1.000000</td>\n",
       "    </tr>\n",
       "  </tbody>\n",
       "</table>\n"
      ],
      "text/plain": [
       "<pandas.io.formats.style.Styler at 0x2321a459dd0>"
      ]
     },
     "execution_count": 9,
     "metadata": {},
     "output_type": "execute_result"
    }
   ],
   "source": [
    "#Import Matplotlib\n",
    "import matplotlib\n",
    "\n",
    "#Corr Matrix\n",
    "correlations = ss.corr()\n",
    "correlations.style.background_gradient(cmap = 'vlag')"
   ]
  },
  {
   "cell_type": "markdown",
   "id": "4d3a9964",
   "metadata": {},
   "source": [
    "#### Notable Takeaways\n",
    "\n",
    "`sm_li`: Imbalance between class labels - twice as many **non**-LinkedIn Users   \n",
    "`income`/`education`:  Majority of LinkedIn Users fall towards higher levels of income and education  \n",
    "`parent`:  Notable sized difference between non-parent usage   \n",
    "`married`: No significant relationship with target variable/lack of disparity between levels  \n",
    "`female`: Slightly greater proportion of non-females appear to be LinkedIn Users  \n",
    "`age`:  Younger demographic appear more likely to be LinkedIn Users"
   ]
  },
  {
   "cell_type": "markdown",
   "id": "92972e5e",
   "metadata": {},
   "source": [
    "---"
   ]
  },
  {
   "cell_type": "markdown",
   "id": "70ccf81c",
   "metadata": {},
   "source": [
    "#### Q4"
   ]
  },
  {
   "cell_type": "code",
   "execution_count": 10,
   "id": "e00467c9",
   "metadata": {},
   "outputs": [],
   "source": [
    "#Create Target(y) vector and Feature Set(X)\n",
    "y = ss['sm_li']\n",
    "X = ss[['income', 'education', 'parent', 'married', 'female', 'age']]"
   ]
  },
  {
   "cell_type": "markdown",
   "id": "2abea11a",
   "metadata": {},
   "source": [
    "---"
   ]
  },
  {
   "cell_type": "markdown",
   "id": "448d4a6e",
   "metadata": {},
   "source": [
    "#### Q5  "
   ]
  },
  {
   "cell_type": "code",
   "execution_count": 11,
   "id": "d6c52b9e",
   "metadata": {},
   "outputs": [],
   "source": [
    "#Create 80/20 Train/Test Split using Scikit-learn\n",
    "from sklearn.model_selection import train_test_split\n",
    "X_train, X_test, y_train, y_test = train_test_split(X, y, test_size=0.2, random_state=8675309)"
   ]
  },
  {
   "cell_type": "markdown",
   "id": "5707d9f6",
   "metadata": {},
   "source": [
    "##### Explanation of X_train, y_train, X_test, and y_test in Machine Learning:\n",
    "- Our training feature set, **X_train**, consists of our predictor variables(`income`, `education`, `parent`, `married`, `female`, `age`) and 80% of their values from our original dataset. These training values will be used in fitting our logistic regression model predicting their corresponding **y_train** labels by providing useful patterns and relationships during the training process.  \n",
    "\n",
    "- The **y_train** object consists of 80% of the target variable (`sm_li`) values/labels corresponding to the same 80% of values found in **X_train**. These **y_train** labels will be used in conjunction with **X_train**. Our logistic model will seek to predict these **y_train** labels during the model fitting process. \n",
    "\n",
    "- Our test feature set, **X_test**, consists of our predictor variables(`income`, `education`, `parent`, `married`, `female`, `age`) and 20% of our original datasets observations. **X_test** consists of *unseen* data and will be used by our estimated logistic regression model after it is fit in predicting target variable classes/probabilities. \n",
    "\n",
    "- The **y_test** object consists of 20% of the target variable(`sm_li`) values/labels corresponding to the same 20% of values found in **X_test**. After our fitted model makes predictions utilizing the values within our feature set, **X_test**, we can directly compare these predictions against the test observations' true labels within **y_test** to assess the performance of our model."
   ]
  },
  {
   "cell_type": "markdown",
   "id": "4396109f",
   "metadata": {},
   "source": [
    "---"
   ]
  },
  {
   "cell_type": "markdown",
   "id": "339840ed",
   "metadata": {},
   "source": [
    "#### Q6"
   ]
  },
  {
   "cell_type": "code",
   "execution_count": 12,
   "id": "631f77b7",
   "metadata": {},
   "outputs": [],
   "source": [
    "#Import Logistic Regression from Scikit-learn\n",
    "from sklearn.linear_model import LogisticRegression as LogReg\n",
    "\n",
    "#Instantiate Model with balanced class weight and fit with training data\n",
    "logistic_model = LogReg(class_weight='balanced').fit(X_train, y_train)"
   ]
  },
  {
   "cell_type": "markdown",
   "id": "d63a30d0",
   "metadata": {},
   "source": [
    "---"
   ]
  },
  {
   "cell_type": "markdown",
   "id": "dbea04ca",
   "metadata": {},
   "source": [
    "#### Q7"
   ]
  },
  {
   "cell_type": "code",
   "execution_count": 13,
   "id": "11f8f2f9",
   "metadata": {},
   "outputs": [
    {
     "name": "stdout",
     "output_type": "stream",
     "text": [
      "Model Accuracy: 69.44%\n",
      "True Positive: 60\n",
      "True Negative: 115\n",
      "False Positive: 55\n",
      "False Negative: 22\n"
     ]
    },
    {
     "data": {
      "text/plain": [
       "<sklearn.metrics._plot.confusion_matrix.ConfusionMatrixDisplay at 0x2321a425a90>"
      ]
     },
     "execution_count": 13,
     "metadata": {},
     "output_type": "execute_result"
    },
    {
     "data": {
      "image/png": "[encoded data removed]",
      "text/plain": [
       "<Figure size 640x480 with 2 Axes>"
      ]
     },
     "metadata": {},
     "output_type": "display_data"
    }
   ],
   "source": [
    "#Import metrics/comfusion matrix visualization\n",
    "from sklearn.metrics import accuracy_score, confusion_matrix, ConfusionMatrixDisplay as CMD\n",
    "\n",
    "#Make Predictions over the test set\n",
    "y_pred = logistic_model.predict(X_test)\n",
    "\n",
    "#Calculate Accuracy\n",
    "accuracy = accuracy_score(y_test, y_pred).round(4)\n",
    "\n",
    "#Generate Confusion Matrix\n",
    "conf_mat = confusion_matrix(y_test, y_pred)\n",
    "\n",
    "#Retrieve Individual Cells\n",
    "TP = conf_mat[1, 1]\n",
    "FP = conf_mat[0, 1]\n",
    "FN = conf_mat[1, 0]\n",
    "TN = conf_mat[0, 0]\n",
    "\n",
    "#Display Accuracy/TP/FP/TN/FN\n",
    "print(\"Model Accuracy: {}%\".format(accuracy*100))\n",
    "print(\"True Positive: {}\".format(TP))\n",
    "print(\"True Negative: {}\".format(TN))\n",
    "print(\"False Positive: {}\".format(FP))\n",
    "print(\"False Negative: {}\".format(FN))\n",
    "\n",
    "#Show Confusion Matrix\n",
    "CMD(conf_mat).plot(cmap='copper')"
   ]
  },
  {
   "cell_type": "markdown",
   "id": "b1686548",
   "metadata": {},
   "source": [
    "#### Model Accuracy:\n",
    "\n",
    "Our model accuracy is approximately **69.44%**.\n",
    "#### Interpretation of Confusion Matrix:   \n",
    "\n",
    "Our confusion matrix considers our model's predicted classifications versus the true observed values. Our Predicted label represents those observations which our model classifies as either not being(0) or being(1) LinkedIn users. Our True label represents the actual observed labels. The intersection between these yields four different aspects of model performance explained below:   \n",
    "\n",
    "**True-Positive**: When the **Predicted label** = 1, and the **True label** = 1, we have correctly predicted an observation to be a LinkedIn user when the observation was a LinkedIn user.     \n",
    "**True-Negative**: When the **Predicted label** = 0, and the **True label** = 0, we have correctly predicted an observation to not be a LinkedIn user when the observation was not a LinkedIn user.      \n",
    "**False-Postive**: When the **Predicted label** = 1 and the **True label** = 0, we have incorrectly predicted an observation to be a LinkedIn user when the observation was not a LinkedIn user.  \n",
    "**False-Negative**: When the **Predicted label** = 0 and the **True label** = 1, we have incorrectly predicted an observation to not be a LinkedIn user when the observation was a LinkedIn user.  "
   ]
  },
  {
   "cell_type": "markdown",
   "id": "10b4d45c",
   "metadata": {},
   "source": [
    "---"
   ]
  },
  {
   "cell_type": "markdown",
   "id": "731951dd",
   "metadata": {},
   "source": [
    "#### Q8"
   ]
  },
  {
   "cell_type": "code",
   "execution_count": 14,
   "id": "ea72bae9",
   "metadata": {},
   "outputs": [
    {
     "data": {
      "text/html": [
       "<style type=\"text/css\">\n",
       "#T_9034b_row0_col0, #T_9034b_row1_col1 {\n",
       "  background-color: #ffc77f;\n",
       "  color: #000000;\n",
       "}\n",
       "#T_9034b_row0_col1, #T_9034b_row1_col0 {\n",
       "  background-color: #000000;\n",
       "  color: #f1f1f1;\n",
       "}\n",
       "</style>\n",
       "<table id=\"T_9034b\">\n",
       "  <thead>\n",
       "    <tr>\n",
       "      <th class=\"blank level0\" >&nbsp;</th>\n",
       "      <th id=\"T_9034b_level0_col0\" class=\"col_heading level0 col0\" >Predicted: Not LinkedIn User</th>\n",
       "      <th id=\"T_9034b_level0_col1\" class=\"col_heading level0 col1\" >Predicted: LinkedIn User</th>\n",
       "    </tr>\n",
       "  </thead>\n",
       "  <tbody>\n",
       "    <tr>\n",
       "      <th id=\"T_9034b_level0_row0\" class=\"row_heading level0 row0\" >Actual: Not LinkedIn User</th>\n",
       "      <td id=\"T_9034b_row0_col0\" class=\"data row0 col0\" >115</td>\n",
       "      <td id=\"T_9034b_row0_col1\" class=\"data row0 col1\" >55</td>\n",
       "    </tr>\n",
       "    <tr>\n",
       "      <th id=\"T_9034b_level0_row1\" class=\"row_heading level0 row1\" >Actual: LinkedIn User</th>\n",
       "      <td id=\"T_9034b_row1_col0\" class=\"data row1 col0\" >22</td>\n",
       "      <td id=\"T_9034b_row1_col1\" class=\"data row1 col1\" >60</td>\n",
       "    </tr>\n",
       "  </tbody>\n",
       "</table>\n"
      ],
      "text/plain": [
       "<pandas.io.formats.style.Styler at 0x2321b5c3f10>"
      ]
     },
     "execution_count": 14,
     "metadata": {},
     "output_type": "execute_result"
    }
   ],
   "source": [
    "#Confusion Matrix as DataFrame\n",
    "conf_mat = pd.DataFrame({\n",
    "    'Predicted: Not LinkedIn User' : [TN, FN],\n",
    "    'Predicted: LinkedIn User' : [FP, TP]\n",
    "}, index = [\"Actual: Not LinkedIn User\", \"Actual: LinkedIn User\"])\n",
    "\n",
    "#Display Confusion Matrix\n",
    "conf_mat.style.background_gradient(cmap=\"copper\")"
   ]
  },
  {
   "cell_type": "markdown",
   "id": "4c26caf8",
   "metadata": {},
   "source": [
    "---"
   ]
  },
  {
   "cell_type": "markdown",
   "id": "dc2bc242",
   "metadata": {},
   "source": [
    "#### Q9"
   ]
  },
  {
   "cell_type": "code",
   "execution_count": 15,
   "id": "d91d5c29",
   "metadata": {},
   "outputs": [
    {
     "name": "stdout",
     "output_type": "stream",
     "text": [
      "By-Hand Calculations of Metrics\n",
      "---\n",
      "Precision: 0.52\n",
      "Recall: 0.73\n",
      "F1 Score: 0.61\n",
      "---\n",
      "                      precision    recall  f1-score   support\n",
      "\n",
      "Not LinkedIn User(0)       0.84      0.68      0.75       170\n",
      "    LinkedIn User(1)       0.52      0.73      0.61        82\n",
      "\n",
      "            accuracy                           0.69       252\n",
      "           macro avg       0.68      0.70      0.68       252\n",
      "        weighted avg       0.74      0.69      0.70       252\n",
      "\n"
     ]
    }
   ],
   "source": [
    "#Precision = TP/(TP+FP)\n",
    "precision =  conf_mat.iloc[1,1] / (conf_mat.iloc[:,1].sum())\n",
    "#Recall = TP/(TP+FN)\n",
    "recall = conf_mat.iloc[1,1] / (conf_mat.iloc[1,:]).sum()\n",
    "#F1_Score\n",
    "f1_score = (2 * precision * recall) / (precision + recall) \n",
    "\n",
    "#Display Calculations\n",
    "print(\"By-Hand Calculations of Metrics\\n---\")\n",
    "print(\"Precision: {:.2f}\".format(precision))\n",
    "print(\"Recall: {:.2f}\".format(recall))\n",
    "print(\"F1 Score: {:.2f}\".format(f1_score))\n",
    "print(\"---\")\n",
    "\n",
    "#Specify Class Labels for Report - Concered with Metrics Associated with `LinkedIn User(1)`\n",
    "from sklearn.metrics import classification_report\n",
    "print(classification_report(y_test,\n",
    "                            y_pred,\n",
    "                            target_names=[\"Not LinkedIn User(0)\",\n",
    "                                          \"LinkedIn User(1)\"]))"
   ]
  },
  {
   "cell_type": "markdown",
   "id": "18f338d3",
   "metadata": {},
   "source": [
    "**Precision = $\\frac{TP}{(TP+FP)}$**  \n",
    "Precision explains how capable our model is in accurately classifying the event/positive class out of all the observations we predict the event/positive class. In our scenario, it refers to how often we correctly predict an observation to use LinkedIn out of the total number of times we predicted an observation to use LinkedIn. We may seek to use precision as a metric of model performance when the cost of misclassifying observations as False Positives would be high. \n",
    "\n",
    "As an example relevant to our analysis, say we wish to offer a special promotion to only current LinkedIn users for a free premium upgrade for life. Misclassifying an individual as a current LinkedIn user would result in that individual being sent the special promotion offer when they should have otherwise not received it. If we're seeking to maximize the correct number of people that receive this promotion, we would seek to maximize precision as a performance metric. This in turn can help minimize misclassifications of False-Positives, thereby allowing us to more precisely aim the special promotion towards the correct demographic, current LinkedIn users. \n",
    "\n",
    "**Recall = $\\frac{TP}{(TP+FN)}$**   \n",
    "Recall explains how capable our model is in correctly classifying the event/positive class out the total number of observations which are the event/positive class. In our scenario, it refers to how well our model is correctly classifying observations as LinkedIn users out of all observations which are LinkedIn users. We may seek to use recall as a metric of model performance when the cost of misclassifying observations as False Negatives would be high. \n",
    "\n",
    "As an example, we might imagine a situation where we seek to classify meltdowns at a nuclear power plant. Misclassifying an observation as *not* being a meltdown(FN) when in reality it *is* a meltdown, would have catastrophic effects. In this scenario, we would undoubtedbly prefer recall as a performance metric for our logistic model as this would enable us to more often classify/identify true instances of meltdowns. By seeking to maximize recall, we minimize our chances of misclassifying False-Negatives.\n",
    "\n",
    "**F1 Score:   $2\\times\\frac{(precision \\times recall)}{(precision+recall)}$**  \n",
    "The F1 Score is an alternative approach to measuring a model's accuracy in the case where we have imbalanced classes. Mathematically, it is a weighted average between precision and recall. We may seek to use the F1 Score as a metric of model performance when we wish to consider the tradeoffs inherent in precision and recall together(i.e. misclassifying observations as false-positives and false-negatives). Additionally, we may wish to use the F1 Score when we have imbalanced class observations. \n",
    "\n",
    "As an actual example, we can see from our own current LinkedIn analysis that we have double the amount of observations which *are not* LinkedIn users as opposed to observations which *are* LinkedIn users which is an imbalance in our dataset. Inference drawn from the accuracy metric alone may be misleading when disregarding the other aspects of performance, as we are not considering the distribution of classes when calculating accuracy. Our accuracy(.69) is higher than our F1 Score(.61). This is primarily due to the fact that our ability to predict an individual to *not* be a LinkedIn user, is pulling our accuracy up. This is misleading, however, because we have many more observations where the individual is *not* a LinkedIn user. In our scenario, we might actually prefer the F1 Score as a metric over accuracy in assessing model performance due to it being able to handle class imbalance and consider both precision and recall."
   ]
  },
  {
   "cell_type": "markdown",
   "id": "6f11d8f7",
   "metadata": {},
   "source": [
    "---"
   ]
  },
  {
   "cell_type": "markdown",
   "id": "71e0f978",
   "metadata": {},
   "source": [
    "#### Q10"
   ]
  },
  {
   "cell_type": "code",
   "execution_count": 16,
   "id": "01cd1791",
   "metadata": {},
   "outputs": [
    {
     "name": "stdout",
     "output_type": "stream",
     "text": [
      "Predicted Class for pred_obs_1: ['1']\n",
      "Probability for pred_obs_1: 0.736\n",
      "---\n",
      "Predicted Class for pred_obs_2: ['0']\n",
      "Probability for pred_obs_2: 0.497\n"
     ]
    }
   ],
   "source": [
    "#High Income/Education, Non-Parent, Married, Female, 42 years old\n",
    "pred_obs_1 = pd.DataFrame({\n",
    "    'income' : 8,\n",
    "    'education' : 7,\n",
    "    'parent' : 0,\n",
    "    'married' : 1, \n",
    "    'female' : 1,\n",
    "    'age' : 42}, index=[0])\n",
    "\n",
    "#High Income/Education, Non-Parent, Married, Female, 82 years old\n",
    "pred_obs_2 = pd.DataFrame({\n",
    "    'income' : 8,\n",
    "    'education' : 7,\n",
    "    'parent' : 0,\n",
    "    'married' : 1, \n",
    "    'female' : 1,\n",
    "    'age' : 82}, index=[0])\n",
    "\n",
    "#Prediction for pred_obs_1 (42 years)\n",
    "class_1 = logistic_model.predict(pred_obs_1)\n",
    "prob_1 = logistic_model.predict_proba(pred_obs_1)[0][1]\n",
    "print(\"Predicted Class for pred_obs_1: {}\".format(class_1))\n",
    "print(\"Probability for pred_obs_1: {:.3f}\".format(prob_1))\n",
    "\n",
    "#Prediction for pred_obs_2 (82 years)\n",
    "class_2 = logistic_model.predict(pred_obs_2)\n",
    "prob_2 = logistic_model.predict_proba(pred_obs_2)[0][1]\n",
    "print(\"---\")\n",
    "print(\"Predicted Class for pred_obs_2: {}\".format(class_2))\n",
    "print(\"Probability for pred_obs_2: {:.3f}\".format(prob_2))"
   ]
  },
  {
   "cell_type": "markdown",
   "id": "176d3979",
   "metadata": {},
   "source": [
    "**Model Predictions**  \n",
    "When we predict the probability of a high income(8), high education(7), non-parent(0), married(1), female(1) that is 42 years old being a LinkedIn user, the resulting probability estimated by our Logistic Model is approximately **0.736**. Based on a probability threshold of 0.5 where probabilities higher would be classified as LinkedIn users, this prediction would be classified as a **LinkedIn User**. If we then hold all these factors constant, but modify the age of this same observation to be 82 years old, we find our predicted probability dropping to be approximately **.497**. Based on the same threshold, this prediction would be classified a **not being a LinkedIn User**. \n",
    "\n",
    "We see that as our age variable increases from 42 to 82, while holding our other variables constant at the previously specified values, our predicted probability of an observation being a LinkedIn user decreases by approximately **0.239**."
   ]
  },
  {
   "cell_type": "markdown",
   "id": "ecfed632",
   "metadata": {},
   "source": [
    "---"
   ]
  }
 ],
 "metadata": {
  "kernelspec": {
   "display_name": "Python 3 (ipykernel)",
   "language": "python",
   "name": "python3"
  },
  "language_info": {
   "codemirror_mode": {
    "name": "ipython",
    "version": 3
   },
   "file_extension": ".py",
   "mimetype": "text/x-python",
   "name": "python",
   "nbconvert_exporter": "python",
   "pygments_lexer": "ipython3",
   "version": "3.11.5"
  }
 },
 "nbformat": 4,
 "nbformat_minor": 5
}
